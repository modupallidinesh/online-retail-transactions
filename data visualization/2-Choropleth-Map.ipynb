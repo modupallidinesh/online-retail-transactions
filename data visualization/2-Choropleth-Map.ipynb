{
 "cells": [
  {
   "cell_type": "markdown",
   "metadata": {},
   "source": [
    "<h1> Choropleth Map for International Sales </h1>\n",
    "<hr>\n",
    "<h3>In this section we will create a choropleth map to show the amount of value that was brought by foreign countries. Since github renders this notebook as static html, you can use the link below to open this notebook with nbviewer in order to see the choropleth map.</h3>\n",
    "\n",
    "[(View Choropleth Map)](https://nbviewer.jupyter.org/github/amir-hojjati/Data-Analysis-Online-Retail-Transactions/blob/4ee5e2d6860acfb68d0cfeecda53a31751e599db/Data-Visualization/2-Choropleth-Map.ipynb)",
    "<br><br>\n",
    "In this choropleth map we have the map of the world and the total value from customers of each country is shown with the color scale. Since we would need the country code for each country, we used the pycountry library to get the codes from the column 'Country'."
   ]
  },
  {
   "cell_type": "code",
   "execution_count": 1,
   "metadata": {},
   "outputs": [
    {
     "data": {
      "text/html": [
       "<script>requirejs.config({paths: { 'plotly': ['https://cdn.plot.ly/plotly-latest.min']},});if(!window.Plotly) {{require(['plotly'],function(plotly) {window.Plotly=plotly;});}}</script>"
      ],
      "text/vnd.plotly.v1+html": [
       "<script>requirejs.config({paths: { 'plotly': ['https://cdn.plot.ly/plotly-latest.min']},});if(!window.Plotly) {{require(['plotly'],function(plotly) {window.Plotly=plotly;});}}</script>"
      ]
     },
     "metadata": {},
     "output_type": "display_data"
    },
    {
     "data": {
      "application/vnd.plotly.v1+json": {
       "data": [
        {
         "autocolorscale": false,
         "colorbar": {
          "title": "Pounds"
         },
         "colorscale": "Portland",
         "locations": [
          "FRA",
          "AUS",
          "NLD",
          "DEU",
          "NOR",
          "CHE",
          "ESP",
          "POL",
          "PRT",
          "ITA",
          "BEL",
          "LTU",
          "JPN",
          "ISL",
          "DNK",
          "CYP",
          "SWE",
          "AUT",
          "ISR",
          "FIN",
          "GRC",
          "SGP",
          "LBN",
          "ARE",
          "SAU",
          "CZE",
          "CAN",
          "BRA",
          "USA",
          "BHR",
          "MLT"
         ],
         "text": [
          "FRANCE",
          "AUSTRALIA",
          "NETHERLANDS",
          "GERMANY",
          "NORWAY",
          "SWITZERLAND",
          "SPAIN",
          "POLAND",
          "PORTUGAL",
          "ITALY",
          "BELGIUM",
          "LITHUANIA",
          "JAPAN",
          "ICELAND",
          "DENMARK",
          "CYPRUS",
          "SWEDEN",
          "AUSTRIA",
          "ISRAEL",
          "FINLAND",
          "GREECE",
          "SINGAPORE",
          "LEBANON",
          "UNITED ARAB EMIRATES",
          "SAUDI ARABIA",
          "CZECH REPUBLIC",
          "CANADA",
          "BRAZIL",
          "USA",
          "BAHRAIN",
          "MALTA"
         ],
         "type": "choropleth",
         "z": [
          188341.25999999992,
          157675.43999999994,
          321537.80999999924,
          209860.8099999992,
          33504.00000000003,
          54619.03000000002,
          55158.48999999996,
          7307.529999999999,
          26919.97000000001,
          15381.989999999996,
          37356.249999999985,
          1653.62,
          31291.510000000013,
          4626.379999999999,
          18946.109999999986,
          10342.950000000008,
          35869.73000000002,
          8482.100000000002,
          7066.609999999998,
          18919.05999999996,
          4750.47,
          9207.530000000002,
          1739.9,
          1900.7800000000007,
          134.01000000000002,
          719.36,
          3226.9200000000005,
          1248.3600000000004,
          1806.1600000000008,
          548.4,
          2004.8200000000002
         ]
        }
       ],
       "layout": {
        "geo": {
         "projection": {
          "type": "equirectangular"
         },
         "showframe": false
        },
        "title": "Sales in Foreign Countries"
       }
      },
      "text/html": [
       "<div id=\"1835488c-822a-461c-918f-7e58fab0468f\" style=\"height: 525px; width: 100%;\" class=\"plotly-graph-div\"></div><script type=\"text/javascript\">require([\"plotly\"], function(Plotly) { window.PLOTLYENV=window.PLOTLYENV || {};window.PLOTLYENV.BASE_URL=\"https://plot.ly\";Plotly.newPlot(\"1835488c-822a-461c-918f-7e58fab0468f\", [{\"autocolorscale\": false, \"colorscale\": \"Portland\", \"text\": [\"FRANCE\", \"AUSTRALIA\", \"NETHERLANDS\", \"GERMANY\", \"NORWAY\", \"SWITZERLAND\", \"SPAIN\", \"POLAND\", \"PORTUGAL\", \"ITALY\", \"BELGIUM\", \"LITHUANIA\", \"JAPAN\", \"ICELAND\", \"DENMARK\", \"CYPRUS\", \"SWEDEN\", \"AUSTRIA\", \"ISRAEL\", \"FINLAND\", \"GREECE\", \"SINGAPORE\", \"LEBANON\", \"UNITED ARAB EMIRATES\", \"SAUDI ARABIA\", \"CZECH REPUBLIC\", \"CANADA\", \"BRAZIL\", \"USA\", \"BAHRAIN\", \"MALTA\"], \"locations\": [\"FRA\", \"AUS\", \"NLD\", \"DEU\", \"NOR\", \"CHE\", \"ESP\", \"POL\", \"PRT\", \"ITA\", \"BEL\", \"LTU\", \"JPN\", \"ISL\", \"DNK\", \"CYP\", \"SWE\", \"AUT\", \"ISR\", \"FIN\", \"GRC\", \"SGP\", \"LBN\", \"ARE\", \"SAU\", \"CZE\", \"CAN\", \"BRA\", \"USA\", \"BHR\", \"MLT\"], \"colorbar\": {\"title\": \"Pounds\"}, \"z\": [188341.25999999992, 157675.43999999994, 321537.80999999924, 209860.8099999992, 33504.00000000003, 54619.03000000002, 55158.48999999996, 7307.529999999999, 26919.97000000001, 15381.989999999996, 37356.249999999985, 1653.62, 31291.510000000013, 4626.379999999999, 18946.109999999986, 10342.950000000008, 35869.73000000002, 8482.100000000002, 7066.609999999998, 18919.05999999996, 4750.47, 9207.530000000002, 1739.9, 1900.7800000000007, 134.01000000000002, 719.36, 3226.9200000000005, 1248.3600000000004, 1806.1600000000008, 548.4, 2004.8200000000002], \"type\": \"choropleth\"}], {\"geo\": {\"projection\": {\"type\": \"equirectangular\"}, \"showframe\": false}, \"title\": \"Sales in Foreign Countries\"}, {\"linkText\": \"Export to plot.ly\", \"showLink\": true})});</script>"
      ],
      "text/vnd.plotly.v1+html": [
       "<div id=\"1835488c-822a-461c-918f-7e58fab0468f\" style=\"height: 525px; width: 100%;\" class=\"plotly-graph-div\"></div><script type=\"text/javascript\">require([\"plotly\"], function(Plotly) { window.PLOTLYENV=window.PLOTLYENV || {};window.PLOTLYENV.BASE_URL=\"https://plot.ly\";Plotly.newPlot(\"1835488c-822a-461c-918f-7e58fab0468f\", [{\"autocolorscale\": false, \"colorscale\": \"Portland\", \"text\": [\"FRANCE\", \"AUSTRALIA\", \"NETHERLANDS\", \"GERMANY\", \"NORWAY\", \"SWITZERLAND\", \"SPAIN\", \"POLAND\", \"PORTUGAL\", \"ITALY\", \"BELGIUM\", \"LITHUANIA\", \"JAPAN\", \"ICELAND\", \"DENMARK\", \"CYPRUS\", \"SWEDEN\", \"AUSTRIA\", \"ISRAEL\", \"FINLAND\", \"GREECE\", \"SINGAPORE\", \"LEBANON\", \"UNITED ARAB EMIRATES\", \"SAUDI ARABIA\", \"CZECH REPUBLIC\", \"CANADA\", \"BRAZIL\", \"USA\", \"BAHRAIN\", \"MALTA\"], \"locations\": [\"FRA\", \"AUS\", \"NLD\", \"DEU\", \"NOR\", \"CHE\", \"ESP\", \"POL\", \"PRT\", \"ITA\", \"BEL\", \"LTU\", \"JPN\", \"ISL\", \"DNK\", \"CYP\", \"SWE\", \"AUT\", \"ISR\", \"FIN\", \"GRC\", \"SGP\", \"LBN\", \"ARE\", \"SAU\", \"CZE\", \"CAN\", \"BRA\", \"USA\", \"BHR\", \"MLT\"], \"colorbar\": {\"title\": \"Pounds\"}, \"z\": [188341.25999999992, 157675.43999999994, 321537.80999999924, 209860.8099999992, 33504.00000000003, 54619.03000000002, 55158.48999999996, 7307.529999999999, 26919.97000000001, 15381.989999999996, 37356.249999999985, 1653.62, 31291.510000000013, 4626.379999999999, 18946.109999999986, 10342.950000000008, 35869.73000000002, 8482.100000000002, 7066.609999999998, 18919.05999999996, 4750.47, 9207.530000000002, 1739.9, 1900.7800000000007, 134.01000000000002, 719.36, 3226.9200000000005, 1248.3600000000004, 1806.1600000000008, 548.4, 2004.8200000000002], \"type\": \"choropleth\"}], {\"geo\": {\"projection\": {\"type\": \"equirectangular\"}, \"showframe\": false}, \"title\": \"Sales in Foreign Countries\"}, {\"linkText\": \"Export to plot.ly\", \"showLink\": true})});</script>"
      ]
     },
     "metadata": {},
     "output_type": "display_data"
    }
   ],
   "source": [
    "#importing necessary libraries\n",
    "import pandas as pd, numpy as np, matplotlib.pyplot as plt\n",
    "from plotly.offline import download_plotlyjs, init_notebook_mode, plot, iplot\n",
    "import plotly.plotly as py, plotly.graph_objs as go\n",
    "import cufflinks as cf\n",
    "import pycountry\n",
    "from pycountry_convert import country_name_to_country_alpha3\n",
    "init_notebook_mode(connected=True)\n",
    "%matplotlib inline\n",
    "\n",
    "#importing dataset\n",
    "CleanDataset = r'../Cleaned-Dataset/OnlineRetail_Cleaned.csv'\n",
    "Data_Cleaned = pd.read_csv(CleanDataset, index_col = 'InvoiceDate')\n",
    "Data_Cleaned.index = pd.to_datetime(Data_Cleaned.index, format = '%Y-%m-%d %H:%M', box = False)\n",
    "\n",
    "#function to get country codes from country names\n",
    "def code(x):\n",
    "    try:\n",
    "        return country_name_to_country_alpha3(x,cn_name_format='upper')\n",
    "    except:\n",
    "        pass\n",
    "Data_Cleaned['CountryCode'] = Data_Cleaned['Country'].map(code)\n",
    "\n",
    "#creating the choropleth map\n",
    "mapdata = Data_Cleaned.dropna()\n",
    "map_data = {\n",
    "    'type': 'choropleth',\n",
    "    'autocolorscale' : False,\n",
    "    'colorscale' : 'Portland',\n",
    "    'locations' : mapdata[mapdata['CountryCode']!='GBR'].groupby('CountryCode', sort=False)['FinalPrice'].sum().index,\n",
    "    'z' : mapdata[mapdata['CountryCode']!='GBR'].groupby('CountryCode', sort=False)['FinalPrice'].sum().values,\n",
    "    'text' :  mapdata[mapdata['CountryCode']!='GBR']['Country'].unique(),\n",
    "    'colorbar' : {'title':'Pounds'}\n",
    "}\n",
    "map_layout = {\n",
    "    'title' : 'Sales in Foreign Countries',\n",
    "    'geo' : {'showframe' : False, 'projection' : {'type':'equirectangular'}}\n",
    "}\n",
    "FinalMap = go.Figure(data = [map_data], layout = map_layout)\n",
    "iplot(FinalMap)"
   ]
  }
 ],
 "metadata": {
  "kernelspec": {
   "display_name": "Python 2",
   "language": "python",
   "name": "python2"
  },
  "language_info": {
   "codemirror_mode": {
    "name": "ipython",
    "version": 2
   },
   "file_extension": ".py",
   "mimetype": "text/x-python",
   "name": "python",
   "nbconvert_exporter": "python",
   "pygments_lexer": "ipython2",
   "version": "2.7.15"
  }
 },
 "nbformat": 4,
 "nbformat_minor": 2
}
